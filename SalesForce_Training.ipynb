{
  "nbformat": 4,
  "nbformat_minor": 0,
  "metadata": {
    "colab": {
      "provenance": []
    },
    "kernelspec": {
      "name": "python3",
      "display_name": "Python 3"
    },
    "language_info": {
      "name": "python"
    }
  },
  "cells": [
    {
      "cell_type": "markdown",
      "source": [
        "Perusahaan X yang ingin\n",
        "mengetahui apakah kegiatan sales force training yang telah dilakukan dapat meningkatkan\n",
        "penjualan perusahaan\n",
        "Proses pertama ialah membuat DataFrame berupa baris dan kolom."
      ],
      "metadata": {
        "id": "4bL_a-G4Ayfk"
      }
    },
    {
      "cell_type": "code",
      "execution_count": null,
      "metadata": {
        "colab": {
          "base_uri": "https://localhost:8080/"
        },
        "id": "SmhkEEKZ50Cg",
        "outputId": "f4fff767-4a2c-45f0-d444-c0ee3ea0736d"
      },
      "outputs": [
        {
          "output_type": "stream",
          "name": "stdout",
          "text": [
            "    TransactionAmount\n",
            "0                 100\n",
            "1                 150\n",
            "2                  50\n",
            "3                 100\n",
            "4                 130\n",
            "5                 120\n",
            "6                 100\n",
            "7                  85\n",
            "8                  70\n",
            "9                 150\n",
            "10                150\n",
            "11                120\n",
            "12                 50\n",
            "13                100\n",
            "14                100\n",
            "15                140\n",
            "16                 90\n",
            "17                150\n",
            "18                 50\n",
            "19                 90\n",
            "20                120\n",
            "21                100\n",
            "22                110\n",
            "23                 75\n",
            "24                 65\n"
          ]
        }
      ],
      "source": [
        "import pandas as pd\n",
        "\n",
        "# Data penjualan\n",
        "data = [100, 150, 50, 100, 130, 120, 100, 85, 70, 150, 150, 120, 50, 100, 100, 140, 90, 150, 50, 90, 120, 100, 110, 75, 65]\n",
        "\n",
        "# Membuat DataFrame\n",
        "df = pd.DataFrame(data, columns=[\"TransactionAmount\"])\n",
        "print(df)"
      ]
    },
    {
      "cell_type": "markdown",
      "source": [
        "Setelah berhasil membuat DataFrame, melakukan analisis statistik menggunakan\n",
        "measures of central tendency dan measures of variability pada data yang ingin dilakukan testing"
      ],
      "metadata": {
        "id": "LVBhohOSBFMP"
      }
    },
    {
      "cell_type": "code",
      "source": [
        "# Measure of Central Tendency\n",
        "mean = df[\"TransactionAmount\"].mean()\n",
        "median = df[\"TransactionAmount\"].median()\n",
        "mode = df[\"TransactionAmount\"].mode()[0]\n",
        "\n",
        "print(f\"Mean: {mean}\")\n",
        "print(f\"Median: {median}\")\n",
        "print(f\"Mode: {mode}\")"
      ],
      "metadata": {
        "colab": {
          "base_uri": "https://localhost:8080/"
        },
        "id": "r_migSRT8PlP",
        "outputId": "c963c132-7fef-431e-e42a-83f5ed8f58be"
      },
      "execution_count": null,
      "outputs": [
        {
          "output_type": "stream",
          "name": "stdout",
          "text": [
            "Mean: 102.6\n",
            "Median: 100.0\n",
            "Mode: 100\n"
          ]
        }
      ]
    },
    {
      "cell_type": "code",
      "source": [
        "# Measure of Variability\n",
        "range_value = df[\"TransactionAmount\"].max() - df[\"TransactionAmount\"].min()\n",
        "variance = df[\"TransactionAmount\"].var()\n",
        "std_dev = df[\"TransactionAmount\"].std()\n",
        "\n",
        "print(f\"Range: {range_value}\")\n",
        "print(f\"Variance: {variance}\")\n",
        "print(f\"Standard Deviation: {std_dev}\")"
      ],
      "metadata": {
        "colab": {
          "base_uri": "https://localhost:8080/"
        },
        "id": "yvx5-DQ_8RmF",
        "outputId": "fccaff2c-4f70-4061-d4a7-ba861571dbcd"
      },
      "execution_count": null,
      "outputs": [
        {
          "output_type": "stream",
          "name": "stdout",
          "text": [
            "Range: 100\n",
            "Variance: 1012.7499999999997\n",
            "Standard Deviation: 31.82373328193912\n"
          ]
        }
      ]
    },
    {
      "cell_type": "markdown",
      "source": [
        "Langkah selanjutnya yaitu menentukan H0 & H1, yang kemudian hasil hipotesis ini siap untuk dijalankan T-Test dan dibuat kesimpulan dari hasil T-Test tersebut"
      ],
      "metadata": {
        "id": "jAgY8TkuBSQ2"
      }
    },
    {
      "cell_type": "code",
      "source": [
        "# T-Test\n",
        "from scipy.stats import ttest_1samp\n",
        "t_stat, p_value = ttest_1samp(df[\"TransactionAmount\"], popmean=100)\n",
        "\n",
        "print(f\"T-Statistic: {t_stat}\")\n",
        "print(f\"P-Value: {p_value}\")"
      ],
      "metadata": {
        "colab": {
          "base_uri": "https://localhost:8080/"
        },
        "id": "YDmoImiO8Xcs",
        "outputId": "870b4518-8d6c-413b-bd75-2f460f084bf2"
      },
      "execution_count": null,
      "outputs": [
        {
          "output_type": "stream",
          "name": "stdout",
          "text": [
            "T-Statistic: 0.4085001556802841\n",
            "P-Value: 0.6865284813438117\n"
          ]
        }
      ]
    },
    {
      "cell_type": "code",
      "source": [],
      "metadata": {
        "id": "-gfIfrP68Y13"
      },
      "execution_count": null,
      "outputs": []
    }
  ]
}